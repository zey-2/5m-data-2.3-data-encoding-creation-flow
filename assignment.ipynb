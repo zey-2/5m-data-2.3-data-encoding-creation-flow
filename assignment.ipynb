{
 "cells": [
  {
   "cell_type": "markdown",
   "id": "156822bd",
   "metadata": {},
   "source": [
    "# Assignment\n",
    "## Brief\n",
    "Write the Python codes for the following questions.\n",
    "## Instructions\n",
    "Paste the answer as Python in the answer code section below each question."
   ]
  },
  {
   "cell_type": "markdown",
   "id": "9dc7ee58",
   "metadata": {},
   "source": [
    "### Question 1\n",
    "Question: Implement a simple Thrift server and client that defines a `Student` struct with fields `name` (string), `age` (integer), and `courses` (list of strings). Include a service `School` with a method `enrollCourse` that takes a `Student` record and a course name, adds the course to the student's course list, and returns the updated `Student` record."
   ]
  },
  {
   "cell_type": "code",
   "execution_count": null,
   "id": "cc30b0aa",
   "metadata": {},
   "outputs": [],
   "source": [
    "# Thrift schema (student.thrift)\n",
    "\n",
    "# Thrift server (student_server.py)\n",
    "\n",
    "# Thrift client (student_client.py)"
   ]
  },
  {
   "cell_type": "markdown",
   "id": "9d36ce57",
   "metadata": {},
   "source": [
    "### Question 2\n",
    "Question: Implement a simple Protocol Buffers server and client that defines a `Book` message with fields `title` (string), `author` (string), and `page_count` (integer). Include a service `Library` with a method `checkoutBook` that takes a `Book` message and returns the same `Book` message."
   ]
  },
  {
   "cell_type": "code",
   "execution_count": null,
   "id": "967c353c",
   "metadata": {},
   "outputs": [],
   "source": [
    "# Protobuf schema (book.proto)\n",
    "\n",
    "# Protobuf server (book_server.py)\n",
    "\n",
    "# Protobuf client (book_client.py)"
   ]
  },
  {
   "cell_type": "markdown",
   "id": "74851b08",
   "metadata": {},
   "source": [
    "## Submission\n",
    "- Submit the URL of the GitHub Repository that contains your work to NTU black board.\n",
    "- Should you reference the work of your classmate(s) or online resources, give them credit by adding either the name of your classmate or URL."
   ]
  }
 ],
 "metadata": {
  "language_info": {
   "name": "python"
  }
 },
 "nbformat": 4,
 "nbformat_minor": 5
}

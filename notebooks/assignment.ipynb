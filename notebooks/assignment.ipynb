{
 "cells": [
  {
   "cell_type": "markdown",
   "id": "156822bd",
   "metadata": {},
   "source": [
    "# Assignment\n",
    "## Brief\n",
    "Write the Python codes for the following questions.\n",
    "## Instructions\n",
    "Paste the answer as Python in the answer code section below each question."
   ]
  },
  {
   "cell_type": "markdown",
   "id": "9dc7ee58",
   "metadata": {},
   "source": [
    "### Question 1\n",
    "Question: Implement a simple Thrift server and client that defines a `Student` struct with fields `name` (string), `age` (integer), and `courses` (list of strings). Include a service `School` with a method `enrollCourse` that takes a `Student` record and a course name, adds the course to the student's course list, and returns the updated `Student` record."
   ]
  },
  {
   "cell_type": "code",
   "execution_count": 2,
   "id": "cc30b0aa",
   "metadata": {},
   "outputs": [
    {
     "name": "stdout",
     "output_type": "stream",
     "text": [
      "Writing ../schema/student.thrift\n"
     ]
    }
   ],
   "source": [
    "%%writefile ../schema/student.thrift\n",
    "# Thrift schema (student.thrift)\n",
    "\n",
    "struct Student {\n",
    "  1: required string name,\n",
    "  2: optional byte age,\n",
    "  3: optional list<string> courses\n",
    "}\n",
    "# byte: An 8-bit signed integer -128 to 127\n",
    "\n",
    "\n",
    "service School {\n",
    "    Student enrollCourse(1: required Student student, 2: required list<string> courses)\n",
    "}"
   ]
  },
  {
   "cell_type": "code",
   "execution_count": 3,
   "id": "b143e867",
   "metadata": {},
   "outputs": [
    {
     "name": "stdout",
     "output_type": "stream",
     "text": [
      "Writing ../student_server.py\n"
     ]
    }
   ],
   "source": [
    "%%writefile ../student_server.py\n",
    "\n",
    "# Thrift server (student_server.py)\n",
    "\n",
    "import thriftpy2\n",
    "student_thrift = thriftpy2.load(\"./schema/student.thrift\", module_name=\"student_thrift\")\n",
    "\n",
    "from thriftpy2.rpc import make_server\n",
    "\n",
    "class School(object):\n",
    "    def enrollCourse(self, student, courses):\n",
    "        for course in courses:\n",
    "            student.courses.append(course)\n",
    "        return student\n",
    "\n",
    "server = make_server(student_thrift.School, School(), client_timeout=None)\n",
    "server.serve()"
   ]
  },
  {
   "cell_type": "markdown",
   "id": "123b9053",
   "metadata": {},
   "source": [
    "Run `python student_server.py` to start the server."
   ]
  },
  {
   "cell_type": "code",
   "execution_count": 4,
   "id": "67aff9c5",
   "metadata": {},
   "outputs": [],
   "source": [
    "# Thrift client (student_client.py)\n",
    "import thriftpy2\n",
    "student_thrift = thriftpy2.load(\"../schema/student.thrift\", module_name=\"student_thrift\")\n",
    "\n",
    "from thriftpy2.rpc import make_client\n",
    "\n",
    "school = make_client(student_thrift.School, timeout=None)\n"
   ]
  },
  {
   "cell_type": "code",
   "execution_count": 5,
   "id": "881a72db",
   "metadata": {},
   "outputs": [],
   "source": [
    "zhihao = student_thrift.Student(name=\"Zhihao\", age=20, courses=[\"DSAI\"])"
   ]
  },
  {
   "cell_type": "code",
   "execution_count": 6,
   "id": "dbdfecb7",
   "metadata": {},
   "outputs": [
    {
     "data": {
      "text/plain": [
       "Student(name='Zhihao', age=20, courses=['DSAI'])"
      ]
     },
     "execution_count": 6,
     "metadata": {},
     "output_type": "execute_result"
    }
   ],
   "source": [
    "zhihao"
   ]
  },
  {
   "cell_type": "code",
   "execution_count": 7,
   "id": "121aa5ff",
   "metadata": {},
   "outputs": [],
   "source": [
    "zhihao = school.enrollCourse(zhihao, [\"AI\", \"ML\"])"
   ]
  },
  {
   "cell_type": "code",
   "execution_count": 8,
   "id": "2ad58958",
   "metadata": {},
   "outputs": [
    {
     "data": {
      "text/plain": [
       "Student(name='Zhihao', age=20, courses=['DSAI', 'AI', 'ML'])"
      ]
     },
     "execution_count": 8,
     "metadata": {},
     "output_type": "execute_result"
    }
   ],
   "source": [
    "zhihao"
   ]
  },
  {
   "cell_type": "markdown",
   "id": "9d36ce57",
   "metadata": {},
   "source": [
    "### Question 2\n",
    "Question: Implement a simple Protocol Buffers server and client that defines a `Book` message with fields `title` (string), `author` (string), and `page_count` (integer). Include a service `Library` with a method `checkoutBook` that takes a `Book` message and returns the same `Book` message."
   ]
  },
  {
   "cell_type": "markdown",
   "id": "0bcea15b",
   "metadata": {},
   "source": [
    "# Protobuf schema (book.proto)"
   ]
  },
  {
   "cell_type": "code",
   "execution_count": 1,
   "id": "967c353c",
   "metadata": {},
   "outputs": [
    {
     "name": "stdout",
     "output_type": "stream",
     "text": [
      "Overwriting ../schema/book.proto\n"
     ]
    }
   ],
   "source": [
    "%%writefile ../schema/book.proto \n",
    "syntax = \"proto3\";\n",
    "\n",
    "message Book {\n",
    "  string title = 1;\n",
    "  optional string author = 2;\n",
    "  optional uint32 page_count = 3;\n",
    "}\n",
    "\n",
    "message CheckoutBookRequest {\n",
    "  Book book = 1;\n",
    "}\n",
    "\n",
    "service Library {\n",
    "  rpc checkoutBook(CheckoutBookRequest) returns (Book) {}\n",
    "}\n"
   ]
  },
  {
   "cell_type": "markdown",
   "id": "d08efba0",
   "metadata": {},
   "source": [
    "run the following command in a terminal to generate the Python code:\n",
    "\n",
    "```bash\n",
    "python -m grpc_tools.protoc -I./schema --python_out=. --grpc_python_out=. ./schema/book.proto\n",
    "```\n",
    "\n",
    "This will generate the following files:\n",
    "\n",
    "```bash\n",
    "book_pb2.py\n",
    "book_pb2_grpc.py\n",
    "```"
   ]
  },
  {
   "cell_type": "code",
   "execution_count": 2,
   "id": "d03de9fe",
   "metadata": {},
   "outputs": [
    {
     "name": "stdout",
     "output_type": "stream",
     "text": [
      "Overwriting ../book_server.py\n"
     ]
    }
   ],
   "source": [
    "%%writefile ../book_server.py\n",
    "# Protobuf server (book_server.py)\n",
    "\n",
    "from concurrent import futures\n",
    "import grpc\n",
    "import book_pb2_grpc\n",
    "\n",
    "\n",
    "class Library(book_pb2_grpc.LibraryServicer):\n",
    "\n",
    "  def checkoutBook(self, request, context):\n",
    "    return request.book\n",
    "\n",
    "server = grpc.server(futures.ThreadPoolExecutor(max_workers=2))\n",
    "book_pb2_grpc.add_LibraryServicer_to_server(\n",
    "    Library(), server)\n",
    "server.add_insecure_port('[::]:50051')\n",
    "server.start()\n",
    "server.wait_for_termination()\n"
   ]
  },
  {
   "cell_type": "markdown",
   "id": "33559992",
   "metadata": {},
   "source": [
    "Run `python book_server.py` to start the server."
   ]
  },
  {
   "cell_type": "code",
   "execution_count": 4,
   "id": "31771c55",
   "metadata": {},
   "outputs": [
    {
     "name": "stdout",
     "output_type": "stream",
     "text": [
      "title: \"Modern Arts of Data Science\"\n",
      "author: \"Alvin\"\n",
      "page_count: 999\n",
      "\n"
     ]
    }
   ],
   "source": [
    "# Protobuf client (book_client.py)\n",
    "import sys\n",
    "sys.path.append('..')\n",
    "import grpc\n",
    "import book_pb2\n",
    "import book_pb2_grpc\n",
    "\n",
    "\n",
    "with grpc.insecure_channel('localhost:50051') as channel:\n",
    "    book = book_pb2.Book(title='Modern Arts of Data Science', author='Alvin', page_count=999)\n",
    "    stub = book_pb2_grpc.LibraryStub(channel)\n",
    "    book = stub.checkoutBook(book_pb2.CheckoutBookRequest(book=book))\n",
    "    print(book)"
   ]
  },
  {
   "cell_type": "markdown",
   "id": "74851b08",
   "metadata": {},
   "source": [
    "## Submission\n",
    "- Submit the URL of the GitHub Repository that contains your work to NTU black board.\n",
    "- Should you reference the work of your classmate(s) or online resources, give them credit by adding either the name of your classmate or URL."
   ]
  }
 ],
 "metadata": {
  "kernelspec": {
   "display_name": "bde",
   "language": "python",
   "name": "python3"
  },
  "language_info": {
   "codemirror_mode": {
    "name": "ipython",
    "version": 3
   },
   "file_extension": ".py",
   "mimetype": "text/x-python",
   "name": "python",
   "nbconvert_exporter": "python",
   "pygments_lexer": "ipython3",
   "version": "3.10.13"
  }
 },
 "nbformat": 4,
 "nbformat_minor": 5
}

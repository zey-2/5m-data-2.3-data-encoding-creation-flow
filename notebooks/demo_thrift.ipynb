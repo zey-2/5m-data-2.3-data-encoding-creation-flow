{
 "cells": [
  {
   "cell_type": "markdown",
   "metadata": {},
   "source": [
    "# Data Encoding, Decoding and Flow"
   ]
  },
  {
   "cell_type": "markdown",
   "metadata": {
    "jp-MarkdownHeadingCollapsed": true
   },
   "source": [
    "## Apache Thrift\n",
    "\n",
    "The thrift type system includes base types like _bool, byte, double, string and integer_ but also special types like _binary_ and _struct_ (like classes) and also containers (_list, set, map_) that correspond to commonly available interfaces in most programming languages.\n",
    "\n",
    "Base types:\n",
    "\n",
    "- bool: A boolean value (true or false)\n",
    "- byte: An 8-bit signed integer\n",
    "- i16: A 16-bit signed integer\n",
    "- i32: A 32-bit signed integer\n",
    "- i64: A 64-bit signed integer\n",
    "- double: A 64-bit floating point number\n",
    "- string: A text string encoded using UTF-8 encoding\n",
    "\n",
    "Thrift type definitions are defined in `.thrift` files. The Thrift compiler generates code in various languages from the `.thrift` files."
   ]
  },
  {
   "cell_type": "markdown",
   "metadata": {},
   "source": [
    "### Encoding\n",
    "\n",
    "Let's use the following example record (JSON or dictionary-like) to encode:\n",
    "\n",
    "```json\n",
    "{\n",
    "  \"userName\": \"Martin\",\n",
    "  \"favoriteNumber\": 1337,\n",
    "  \"interests\": [\"daydreaming\", \"hacking\"]\n",
    "}\n",
    "```\n",
    "\n",
    "We can encode the record in Thrift using the following schema in the `.thrift` file:\n",
    "\n",
    "```thrift\n",
    "struct Person {\n",
    "  1: required string userName,\n",
    "  2: optional i64 favoriteNumber,\n",
    "  3: optional list<string> interests\n",
    "}\n",
    "```\n",
    "\n",
    "Thrift comes with a code generation tool that takes a schema definition like the ones shown here, and produces classes that implement the schema in various programming languages. Our code can call this generated code to encode or decode records of the schema.\n",
    "\n",
    "The data encoded with this schema looks like this:\n",
    "![thrift_binary_protocol](../assets/thrift_binary_protocol.png)\n",
    "\n",
    "Each field has a type annotation (to indicate whether it is a string, integer, list, etc.) and, where required, a length indication (length of a string, number of items in a list). The strings that appear in the data (“Martin”, “daydreaming”, “hacking”) are encoded as UTF-8.\n",
    "\n",
    "There are no field names (userName, favoriteNumber, interests). Instead, the encoded data contains _field tags_, which are numbers (1, 2, and 3). Those are the numbers that appear in the schema definition. Field tags are like aliases for fields—they are a compact way of saying what field we’re talking about, without having to spell out the field name.\n",
    "\n",
    "Next, let's add a service. A service is a collection of method interfaces that can be called remotely. A service is defined in a `.thrift` file like this:\n",
    "\n",
    "```thrift\n",
    "service School {\n",
    "    Person teachCourse(1: required Person person, 2: required string course)\n",
    "}\n",
    "```\n",
    "\n",
    "The first line declares a service called `School`. The second line declares a method called `teachCourses`, which takes two arguments: a `Person` record and a `string`. The method returns a `Person` record.\n",
    "\n",
    "### RPC\n",
    "\n",
    "Nows, let's look at how to use the generated code to make remote procedure calls. We will write codes for 2 sides of the server-client application- the client initiates an RPC call and waits for a response from the server. The server executes the requested operation and returns a response to the client.\n",
    "\n",
    "Here, we use `%%writefile` magic command to write the code to a file instead of running it in the cell."
   ]
  },
  {
   "cell_type": "code",
   "execution_count": 1,
   "metadata": {},
   "outputs": [
    {
     "name": "stdout",
     "output_type": "stream",
     "text": [
      "Overwriting ../schema/person.thrift\n"
     ]
    }
   ],
   "source": [
    "%%writefile ../schema/person.thrift\n",
    "\n",
    "struct Person {\n",
    "  1: required string userName,\n",
    "  2: optional i64 favoriteNumber,\n",
    "  3: optional list<string> interests,\n",
    "  4: optional byte grade\n",
    "}\n",
    "\n",
    "service School {\n",
    "    Person teachCourse(1: required Person person, 2: required list<string> course)\n",
    "    Person assignGrade(1: required Person person, 2: required byte grade)\n",
    "}"
   ]
  },
  {
   "cell_type": "code",
   "execution_count": 2,
   "metadata": {},
   "outputs": [
    {
     "name": "stdout",
     "output_type": "stream",
     "text": [
      "Overwriting ../person_thrift_server.py\n"
     ]
    }
   ],
   "source": [
    "%%writefile ../person_thrift_server.py\n",
    "import thriftpy2\n",
    "person_thrift = thriftpy2.load(\"./schema/person.thrift\", module_name=\"person_thrift\")\n",
    "\n",
    "from thriftpy2.rpc import make_server\n",
    "\n",
    "class School(object):\n",
    "    def teachCourse(self, person, courses):\n",
    "        for course in courses:\n",
    "            person.interests.append(course)\n",
    "        return person\n",
    "    def assignGrade(self, person, grade):\n",
    "        person.grade = grade\n",
    "        return person\n",
    "\n",
    "server = make_server(person_thrift.School, School(), client_timeout=None)\n",
    "server.serve()"
   ]
  },
  {
   "cell_type": "markdown",
   "metadata": {},
   "source": [
    "Then, run `python person_thrift_server.py` in a new terminal. This will start the server."
   ]
  },
  {
   "cell_type": "code",
   "execution_count": 4,
   "metadata": {},
   "outputs": [],
   "source": [
    "import thriftpy2\n",
    "person_thrift = thriftpy2.load(\"../schema/person.thrift\", module_name=\"person_thrift\")\n",
    "\n",
    "from thriftpy2.rpc import make_client\n",
    "\n",
    "school = make_client(person_thrift.School, timeout=None)"
   ]
  },
  {
   "cell_type": "code",
   "execution_count": 5,
   "metadata": {},
   "outputs": [],
   "source": [
    "martin = person_thrift.Person(\n",
    "    userName=\"Martin\", favoriteNumber=1337, interests=[\"daydreaming\", \"hacking\"]\n",
    ")"
   ]
  },
  {
   "cell_type": "code",
   "execution_count": 6,
   "metadata": {},
   "outputs": [
    {
     "data": {
      "text/plain": [
       "['daydreaming', 'hacking']"
      ]
     },
     "execution_count": 6,
     "metadata": {},
     "output_type": "execute_result"
    }
   ],
   "source": [
    "martin.interests"
   ]
  },
  {
   "cell_type": "code",
   "execution_count": 12,
   "metadata": {},
   "outputs": [],
   "source": [
    "martin = school.teachCourse(martin, [\"coding\"])"
   ]
  },
  {
   "cell_type": "code",
   "execution_count": 8,
   "metadata": {},
   "outputs": [
    {
     "data": {
      "text/plain": [
       "['daydreaming', 'hacking', 'c', 'o', 'd', 'i', 'n', 'g']"
      ]
     },
     "execution_count": 8,
     "metadata": {},
     "output_type": "execute_result"
    }
   ],
   "source": [
    "martin.interests"
   ]
  },
  {
   "cell_type": "markdown",
   "metadata": {},
   "source": [
    "> 1. Add a new field `grade` (0-100) with an appropriate type annotation to the `Person` struct. Then, add a new method `assignGrade` to the `School` service that takes a `Person` record and a `grade` arguments, assigns the `grade` to the `Person` and returns the `Person`. Then call the method by passing `martin` and a grade number, and print his grade.\n",
    ">\n",
    "> 2. Add a method `teachCourses` to School to add a list of courses instead of just one course. Then pass `martin` and a list of course-- `[\"cooking\", \"sewing\"]` to the method, and print his new interests."
   ]
  },
  {
   "cell_type": "code",
   "execution_count": 9,
   "metadata": {},
   "outputs": [],
   "source": [
    "martin = school.assignGrade(martin, 90)"
   ]
  },
  {
   "cell_type": "code",
   "execution_count": 13,
   "metadata": {},
   "outputs": [
    {
     "data": {
      "text/plain": [
       "Person(userName='Martin', favoriteNumber=1337, interests=['daydreaming', 'hacking', 'c', 'o', 'd', 'i', 'n', 'g', 'cooking', 'sewing', 'coding'], grade=90)"
      ]
     },
     "execution_count": 13,
     "metadata": {},
     "output_type": "execute_result"
    }
   ],
   "source": [
    "martin"
   ]
  },
  {
   "cell_type": "code",
   "execution_count": 11,
   "metadata": {},
   "outputs": [],
   "source": [
    "martin = school.teachCourse(martin, [\"cooking\", \"sewing\"])"
   ]
  },
  {
   "cell_type": "code",
   "execution_count": 14,
   "metadata": {},
   "outputs": [
    {
     "name": "stdout",
     "output_type": "stream",
     "text": [
      "School client type: <class 'thriftpy2.thrift.TClient'>\n",
      "Available methods: ['assignGrade', 'teachCourse']\n",
      "School object: <thriftpy2.thrift.TClient object at 0x7824f414f2e0>\n"
     ]
    }
   ],
   "source": [
    "# Inspect the school client object and its available methods\n",
    "print('School client type:', type(school))\n",
    "print('Available methods:', dir(school))\n",
    "# Example: Retrieve school object details (if any specific attributes exist)\n",
    "try:\n",
    "    print('School object:', school)\n",
    "except Exception as e:\n",
    "    print('Error retrieving school object:', e)"
   ]
  }
 ],
 "metadata": {
  "kernelspec": {
   "display_name": "bde",
   "language": "python",
   "name": "python3"
  },
  "language_info": {
   "codemirror_mode": {
    "name": "ipython",
    "version": 3
   },
   "file_extension": ".py",
   "mimetype": "text/x-python",
   "name": "python",
   "nbconvert_exporter": "python",
   "pygments_lexer": "ipython3",
   "version": "3.10.13"
  }
 },
 "nbformat": 4,
 "nbformat_minor": 4
}

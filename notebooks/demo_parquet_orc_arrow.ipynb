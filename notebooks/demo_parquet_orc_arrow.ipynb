{
 "cells": [
  {
   "cell_type": "markdown",
   "metadata": {},
   "source": [
    "# Data Encoding, Decoding and Flow"
   ]
  },
  {
   "cell_type": "markdown",
   "metadata": {},
   "source": [
    "## Apache Parquet, ORC and Arrow\n",
    "\n",
    "We can easily read (decode) and write (encode) data from and to Parquet, ORC and Arrow files interchangeably. The `pyarrow` library allows us to read a Parquet or ORC file into a `pyarrow.Table` object, which is a columnar data structure that can be converted to a Pandas DataFrame. We can also write a `pyarrow.Table` to a Parquet or ORC file.\n",
    "\n",
    "Parquet has the following types:\n",
    "\n",
    "- boolean: 1 bit boolean\n",
    "- int32: 32 bit signed ints\n",
    "- int64: 64 bit signed ints\n",
    "- int96: 96 bit signed ints\n",
    "- float: IEEE 32-bit floating point values\n",
    "- double: IEEE 64-bit floating point values\n",
    "- byte_array: arbitrarily long byte arrays\n",
    "- fixed_len_byte_array: fixed length byte arrays\n",
    "- string: UTF-8 encoded strings\n",
    "- enum: enumeration of strings\n",
    "- temporal: a logical date type\n",
    "\n",
    "ORC has the following types:\n",
    "\n",
    "- boolean: 1 bit boolean\n",
    "- tinyint: 8 bit signed ints\n",
    "- smallint: 16 bit signed ints\n",
    "- int: 32 bit signed ints\n",
    "- bigint: 64 bit signed ints\n",
    "- float: IEEE 32-bit floating point values\n",
    "- double: IEEE 64-bit floating point values\n",
    "- string: UTF-8 encoded strings\n",
    "- char: ASCII strings\n",
    "- varchar: UTF-8 strings\n",
    "- binary: byte arrays\n",
    "- timestamp: a logical date type\n",
    "- date: a logical date type\n",
    "- decimal: arbitrary precision decimals\n",
    "- list: an ordered collection of objects\n",
    "- map: a collection of key-value pairs\n",
    "- struct: an ordered collection of named fields\n",
    "- union: a list of types\n",
    "\n",
    "### Reading (Decoding) and Writing (Encoding) a Parquet File\n",
    "\n",
    "Let's look at how to decode and encode a Parquet file with mock customers data."
   ]
  },
  {
   "cell_type": "code",
   "execution_count": 1,
   "metadata": {},
   "outputs": [],
   "source": [
    "import pyarrow as pa\n",
    "import pyarrow.parquet as pq"
   ]
  },
  {
   "cell_type": "code",
   "execution_count": 2,
   "metadata": {},
   "outputs": [],
   "source": [
    "table = pq.read_table('../data/userdata1.parquet')"
   ]
  },
  {
   "cell_type": "code",
   "execution_count": 3,
   "metadata": {},
   "outputs": [
    {
     "data": {
      "text/plain": [
       "pyarrow.Table\n",
       "registration_dttm: timestamp[ns]\n",
       "id: int32\n",
       "first_name: string\n",
       "last_name: string\n",
       "email: string\n",
       "gender: string\n",
       "ip_address: string\n",
       "cc: string\n",
       "country: string\n",
       "birthdate: string\n",
       "salary: double\n",
       "title: string\n",
       "comments: string\n",
       "----\n",
       "registration_dttm: [[2016-02-03 07:55:29.000000000,2016-02-03 17:04:03.000000000,2016-02-03 01:09:31.000000000,2016-02-03 00:36:21.000000000,2016-02-03 05:05:31.000000000,...,2016-02-03 10:30:59.000000000,2016-02-03 17:16:53.000000000,2016-02-03 05:02:20.000000000,2016-02-03 02:41:32.000000000,2016-02-03 09:52:18.000000000]]\n",
       "id: [[1,2,3,4,5,...,996,997,998,999,1000]]\n",
       "first_name: [[\"Amanda\",\"Albert\",\"Evelyn\",\"Denise\",\"Carlos\",...,\"Dennis\",\"Gloria\",\"Nancy\",\"Annie\",\"Julie\"]]\n",
       "last_name: [[\"Jordan\",\"Freeman\",\"Morgan\",\"Riley\",\"Burns\",...,\"Harris\",\"Hamilton\",\"Morris\",\"Daniels\",\"Meyer\"]]\n",
       "email: [[\"ajordan0@com.com\",\"afreeman1@is.gd\",\"emorgan2@altervista.org\",\"driley3@gmpg.org\",\"cburns4@miitbeian.gov.cn\",...,\"dharrisrn@eepurl.com\",\"ghamiltonro@rambler.ru\",\"nmorrisrp@ask.com\",\"adanielsrq@squidoo.com\",\"jmeyerrr@flavors.me\"]]\n",
       "gender: [[\"Female\",\"Male\",\"Female\",\"Female\",\"\",...,\"Male\",\"Female\",\"\",\"Female\",\"Female\"]]\n",
       "ip_address: [[\"1.197.201.2\",\"218.111.175.34\",\"7.161.136.94\",\"140.35.109.83\",\"169.113.235.40\",...,\"178.180.111.236\",\"71.50.39.137\",\"6.188.121.221\",\"97.221.132.35\",\"217.1.147.132\"]]\n",
       "cc: [[\"6759521864920116\",\"\",\"6767119071901597\",\"3576031598965625\",\"5602256255204850\",...,\"374288806662929\",\"\",\"3553564071014997\",\"30424803513734\",\"374288099198540\"]]\n",
       "country: [[\"Indonesia\",\"Canada\",\"Russia\",\"China\",\"South Africa\",...,\"Greece\",\"China\",\"Sweden\",\"China\",\"China\"]]\n",
       "birthdate: [[\"3/8/1971\",\"1/16/1968\",\"2/1/1960\",\"4/8/1997\",\"\",...,\"7/8/1965\",\"4/22/1975\",\"5/1/1979\",\"10/9/1991\",\"\"]]\n",
       "..."
      ]
     },
     "execution_count": 3,
     "metadata": {},
     "output_type": "execute_result"
    }
   ],
   "source": [
    "table"
   ]
  },
  {
   "cell_type": "code",
   "execution_count": 4,
   "metadata": {},
   "outputs": [
    {
     "data": {
      "text/plain": [
       "registration_dttm: timestamp[ns]\n",
       "id: int32\n",
       "first_name: string\n",
       "last_name: string\n",
       "email: string\n",
       "gender: string\n",
       "ip_address: string\n",
       "cc: string\n",
       "country: string\n",
       "birthdate: string\n",
       "salary: double\n",
       "title: string\n",
       "comments: string"
      ]
     },
     "execution_count": 4,
     "metadata": {},
     "output_type": "execute_result"
    }
   ],
   "source": [
    "table.schema"
   ]
  },
  {
   "cell_type": "code",
   "execution_count": 5,
   "metadata": {},
   "outputs": [
    {
     "data": {
      "text/plain": [
       "<pyarrow._parquet.FileMetaData object at 0x754351d5cdb0>\n",
       "  created_by: parquet-mr version 1.8.1 (build 4aba4dae7bb0d4edbcf7923ae1339f28fd3f7fcf)\n",
       "  num_columns: 13\n",
       "  num_rows: 1000\n",
       "  num_row_groups: 1\n",
       "  format_version: 1.0\n",
       "  serialized_size: 1125"
      ]
     },
     "execution_count": 5,
     "metadata": {},
     "output_type": "execute_result"
    }
   ],
   "source": [
    "metadata = pq.read_metadata('../data/userdata1.parquet')\n",
    "\n",
    "metadata"
   ]
  },
  {
   "cell_type": "code",
   "execution_count": 6,
   "metadata": {},
   "outputs": [
    {
     "data": {
      "text/plain": [
       "<pyarrow._parquet.ParquetSchema object at 0x754351d6d200>\n",
       "required group field_id=-1 hive_schema {\n",
       "  optional int96 field_id=-1 registration_dttm;\n",
       "  optional int32 field_id=-1 id;\n",
       "  optional binary field_id=-1 first_name (String);\n",
       "  optional binary field_id=-1 last_name (String);\n",
       "  optional binary field_id=-1 email (String);\n",
       "  optional binary field_id=-1 gender (String);\n",
       "  optional binary field_id=-1 ip_address (String);\n",
       "  optional binary field_id=-1 cc (String);\n",
       "  optional binary field_id=-1 country (String);\n",
       "  optional binary field_id=-1 birthdate (String);\n",
       "  optional double field_id=-1 salary;\n",
       "  optional binary field_id=-1 title (String);\n",
       "  optional binary field_id=-1 comments (String);\n",
       "}"
      ]
     },
     "execution_count": 6,
     "metadata": {},
     "output_type": "execute_result"
    }
   ],
   "source": [
    "metadata.schema"
   ]
  },
  {
   "cell_type": "code",
   "execution_count": 7,
   "metadata": {},
   "outputs": [
    {
     "data": {
      "text/plain": [
       "<pyarrow._parquet.ColumnChunkMetaData object at 0x754351d5d710>\n",
       "  file_offset: 95403\n",
       "  file_path: \n",
       "  physical_type: DOUBLE\n",
       "  num_values: 1000\n",
       "  path_in_schema: salary\n",
       "  is_stats_set: True\n",
       "  statistics:\n",
       "    <pyarrow._parquet.Statistics object at 0x754351d5d800>\n",
       "      has_min_max: True\n",
       "      min: 12380.49\n",
       "      max: 286592.99\n",
       "      null_count: 68\n",
       "      distinct_count: 0\n",
       "      num_values: 932\n",
       "      physical_type: DOUBLE\n",
       "      logical_type: None\n",
       "      converted_type (legacy): NONE\n",
       "  compression: UNCOMPRESSED\n",
       "  encodings: ('PLAIN', 'BIT_PACKED', 'RLE')\n",
       "  has_dictionary_page: False\n",
       "  dictionary_page_offset: None\n",
       "  data_page_offset: 95403\n",
       "  total_compressed_size: 7631\n",
       "  total_uncompressed_size: 7631"
      ]
     },
     "execution_count": 7,
     "metadata": {},
     "output_type": "execute_result"
    }
   ],
   "source": [
    "metadata.row_group(0).column(10)"
   ]
  },
  {
   "cell_type": "markdown",
   "metadata": {},
   "source": [
    "Select the first 3 rows of the table:"
   ]
  },
  {
   "cell_type": "code",
   "execution_count": 8,
   "metadata": {},
   "outputs": [
    {
     "data": {
      "text/plain": [
       "pyarrow.Table\n",
       "registration_dttm: timestamp[ns]\n",
       "id: int32\n",
       "first_name: string\n",
       "last_name: string\n",
       "email: string\n",
       "gender: string\n",
       "ip_address: string\n",
       "cc: string\n",
       "country: string\n",
       "birthdate: string\n",
       "salary: double\n",
       "title: string\n",
       "comments: string\n",
       "----\n",
       "registration_dttm: [[2016-02-03 07:55:29.000000000,2016-02-03 17:04:03.000000000,2016-02-03 01:09:31.000000000]]\n",
       "id: [[1,2,3]]\n",
       "first_name: [[\"Amanda\",\"Albert\",\"Evelyn\"]]\n",
       "last_name: [[\"Jordan\",\"Freeman\",\"Morgan\"]]\n",
       "email: [[\"ajordan0@com.com\",\"afreeman1@is.gd\",\"emorgan2@altervista.org\"]]\n",
       "gender: [[\"Female\",\"Male\",\"Female\"]]\n",
       "ip_address: [[\"1.197.201.2\",\"218.111.175.34\",\"7.161.136.94\"]]\n",
       "cc: [[\"6759521864920116\",\"\",\"6767119071901597\"]]\n",
       "country: [[\"Indonesia\",\"Canada\",\"Russia\"]]\n",
       "birthdate: [[\"3/8/1971\",\"1/16/1968\",\"2/1/1960\"]]\n",
       "..."
      ]
     },
     "execution_count": 8,
     "metadata": {},
     "output_type": "execute_result"
    }
   ],
   "source": [
    "table.take([0,1,2])"
   ]
  },
  {
   "cell_type": "markdown",
   "metadata": {},
   "source": [
    "Convert a Table to a DataFrame:"
   ]
  },
  {
   "cell_type": "code",
   "execution_count": 9,
   "metadata": {},
   "outputs": [],
   "source": [
    "df = table.to_pandas()"
   ]
  },
  {
   "cell_type": "code",
   "execution_count": 10,
   "metadata": {},
   "outputs": [
    {
     "data": {
      "text/html": [
       "<div>\n",
       "<style scoped>\n",
       "    .dataframe tbody tr th:only-of-type {\n",
       "        vertical-align: middle;\n",
       "    }\n",
       "\n",
       "    .dataframe tbody tr th {\n",
       "        vertical-align: top;\n",
       "    }\n",
       "\n",
       "    .dataframe thead th {\n",
       "        text-align: right;\n",
       "    }\n",
       "</style>\n",
       "<table border=\"1\" class=\"dataframe\">\n",
       "  <thead>\n",
       "    <tr style=\"text-align: right;\">\n",
       "      <th></th>\n",
       "      <th>registration_dttm</th>\n",
       "      <th>id</th>\n",
       "      <th>first_name</th>\n",
       "      <th>last_name</th>\n",
       "      <th>email</th>\n",
       "      <th>gender</th>\n",
       "      <th>ip_address</th>\n",
       "      <th>cc</th>\n",
       "      <th>country</th>\n",
       "      <th>birthdate</th>\n",
       "      <th>salary</th>\n",
       "      <th>title</th>\n",
       "      <th>comments</th>\n",
       "    </tr>\n",
       "  </thead>\n",
       "  <tbody>\n",
       "    <tr>\n",
       "      <th>0</th>\n",
       "      <td>2016-02-03 07:55:29</td>\n",
       "      <td>1</td>\n",
       "      <td>Amanda</td>\n",
       "      <td>Jordan</td>\n",
       "      <td>ajordan0@com.com</td>\n",
       "      <td>Female</td>\n",
       "      <td>1.197.201.2</td>\n",
       "      <td>6759521864920116</td>\n",
       "      <td>Indonesia</td>\n",
       "      <td>3/8/1971</td>\n",
       "      <td>49756.53</td>\n",
       "      <td>Internal Auditor</td>\n",
       "      <td>1E+02</td>\n",
       "    </tr>\n",
       "    <tr>\n",
       "      <th>1</th>\n",
       "      <td>2016-02-03 17:04:03</td>\n",
       "      <td>2</td>\n",
       "      <td>Albert</td>\n",
       "      <td>Freeman</td>\n",
       "      <td>afreeman1@is.gd</td>\n",
       "      <td>Male</td>\n",
       "      <td>218.111.175.34</td>\n",
       "      <td></td>\n",
       "      <td>Canada</td>\n",
       "      <td>1/16/1968</td>\n",
       "      <td>150280.17</td>\n",
       "      <td>Accountant IV</td>\n",
       "      <td></td>\n",
       "    </tr>\n",
       "    <tr>\n",
       "      <th>2</th>\n",
       "      <td>2016-02-03 01:09:31</td>\n",
       "      <td>3</td>\n",
       "      <td>Evelyn</td>\n",
       "      <td>Morgan</td>\n",
       "      <td>emorgan2@altervista.org</td>\n",
       "      <td>Female</td>\n",
       "      <td>7.161.136.94</td>\n",
       "      <td>6767119071901597</td>\n",
       "      <td>Russia</td>\n",
       "      <td>2/1/1960</td>\n",
       "      <td>144972.51</td>\n",
       "      <td>Structural Engineer</td>\n",
       "      <td></td>\n",
       "    </tr>\n",
       "    <tr>\n",
       "      <th>3</th>\n",
       "      <td>2016-02-03 00:36:21</td>\n",
       "      <td>4</td>\n",
       "      <td>Denise</td>\n",
       "      <td>Riley</td>\n",
       "      <td>driley3@gmpg.org</td>\n",
       "      <td>Female</td>\n",
       "      <td>140.35.109.83</td>\n",
       "      <td>3576031598965625</td>\n",
       "      <td>China</td>\n",
       "      <td>4/8/1997</td>\n",
       "      <td>90263.05</td>\n",
       "      <td>Senior Cost Accountant</td>\n",
       "      <td></td>\n",
       "    </tr>\n",
       "    <tr>\n",
       "      <th>4</th>\n",
       "      <td>2016-02-03 05:05:31</td>\n",
       "      <td>5</td>\n",
       "      <td>Carlos</td>\n",
       "      <td>Burns</td>\n",
       "      <td>cburns4@miitbeian.gov.cn</td>\n",
       "      <td></td>\n",
       "      <td>169.113.235.40</td>\n",
       "      <td>5602256255204850</td>\n",
       "      <td>South Africa</td>\n",
       "      <td></td>\n",
       "      <td>NaN</td>\n",
       "      <td></td>\n",
       "      <td></td>\n",
       "    </tr>\n",
       "    <tr>\n",
       "      <th>...</th>\n",
       "      <td>...</td>\n",
       "      <td>...</td>\n",
       "      <td>...</td>\n",
       "      <td>...</td>\n",
       "      <td>...</td>\n",
       "      <td>...</td>\n",
       "      <td>...</td>\n",
       "      <td>...</td>\n",
       "      <td>...</td>\n",
       "      <td>...</td>\n",
       "      <td>...</td>\n",
       "      <td>...</td>\n",
       "      <td>...</td>\n",
       "    </tr>\n",
       "    <tr>\n",
       "      <th>995</th>\n",
       "      <td>2016-02-03 10:30:59</td>\n",
       "      <td>996</td>\n",
       "      <td>Dennis</td>\n",
       "      <td>Harris</td>\n",
       "      <td>dharrisrn@eepurl.com</td>\n",
       "      <td>Male</td>\n",
       "      <td>178.180.111.236</td>\n",
       "      <td>374288806662929</td>\n",
       "      <td>Greece</td>\n",
       "      <td>7/8/1965</td>\n",
       "      <td>263399.54</td>\n",
       "      <td>Editor</td>\n",
       "      <td></td>\n",
       "    </tr>\n",
       "    <tr>\n",
       "      <th>996</th>\n",
       "      <td>2016-02-03 17:16:53</td>\n",
       "      <td>997</td>\n",
       "      <td>Gloria</td>\n",
       "      <td>Hamilton</td>\n",
       "      <td>ghamiltonro@rambler.ru</td>\n",
       "      <td>Female</td>\n",
       "      <td>71.50.39.137</td>\n",
       "      <td></td>\n",
       "      <td>China</td>\n",
       "      <td>4/22/1975</td>\n",
       "      <td>83183.54</td>\n",
       "      <td>VP Product Management</td>\n",
       "      <td></td>\n",
       "    </tr>\n",
       "    <tr>\n",
       "      <th>997</th>\n",
       "      <td>2016-02-03 05:02:20</td>\n",
       "      <td>998</td>\n",
       "      <td>Nancy</td>\n",
       "      <td>Morris</td>\n",
       "      <td>nmorrisrp@ask.com</td>\n",
       "      <td></td>\n",
       "      <td>6.188.121.221</td>\n",
       "      <td>3553564071014997</td>\n",
       "      <td>Sweden</td>\n",
       "      <td>5/1/1979</td>\n",
       "      <td>NaN</td>\n",
       "      <td>Junior Executive</td>\n",
       "      <td></td>\n",
       "    </tr>\n",
       "    <tr>\n",
       "      <th>998</th>\n",
       "      <td>2016-02-03 02:41:32</td>\n",
       "      <td>999</td>\n",
       "      <td>Annie</td>\n",
       "      <td>Daniels</td>\n",
       "      <td>adanielsrq@squidoo.com</td>\n",
       "      <td>Female</td>\n",
       "      <td>97.221.132.35</td>\n",
       "      <td>30424803513734</td>\n",
       "      <td>China</td>\n",
       "      <td>10/9/1991</td>\n",
       "      <td>18433.85</td>\n",
       "      <td>Editor</td>\n",
       "      <td>​</td>\n",
       "    </tr>\n",
       "    <tr>\n",
       "      <th>999</th>\n",
       "      <td>2016-02-03 09:52:18</td>\n",
       "      <td>1000</td>\n",
       "      <td>Julie</td>\n",
       "      <td>Meyer</td>\n",
       "      <td>jmeyerrr@flavors.me</td>\n",
       "      <td>Female</td>\n",
       "      <td>217.1.147.132</td>\n",
       "      <td>374288099198540</td>\n",
       "      <td>China</td>\n",
       "      <td></td>\n",
       "      <td>222561.13</td>\n",
       "      <td></td>\n",
       "      <td></td>\n",
       "    </tr>\n",
       "  </tbody>\n",
       "</table>\n",
       "<p>1000 rows × 13 columns</p>\n",
       "</div>"
      ],
      "text/plain": [
       "      registration_dttm    id first_name last_name                     email  \\\n",
       "0   2016-02-03 07:55:29     1     Amanda    Jordan          ajordan0@com.com   \n",
       "1   2016-02-03 17:04:03     2     Albert   Freeman           afreeman1@is.gd   \n",
       "2   2016-02-03 01:09:31     3     Evelyn    Morgan   emorgan2@altervista.org   \n",
       "3   2016-02-03 00:36:21     4     Denise     Riley          driley3@gmpg.org   \n",
       "4   2016-02-03 05:05:31     5     Carlos     Burns  cburns4@miitbeian.gov.cn   \n",
       "..                  ...   ...        ...       ...                       ...   \n",
       "995 2016-02-03 10:30:59   996     Dennis    Harris      dharrisrn@eepurl.com   \n",
       "996 2016-02-03 17:16:53   997     Gloria  Hamilton    ghamiltonro@rambler.ru   \n",
       "997 2016-02-03 05:02:20   998      Nancy    Morris         nmorrisrp@ask.com   \n",
       "998 2016-02-03 02:41:32   999      Annie   Daniels    adanielsrq@squidoo.com   \n",
       "999 2016-02-03 09:52:18  1000      Julie     Meyer       jmeyerrr@flavors.me   \n",
       "\n",
       "     gender       ip_address                cc       country  birthdate  \\\n",
       "0    Female      1.197.201.2  6759521864920116     Indonesia   3/8/1971   \n",
       "1      Male   218.111.175.34                          Canada  1/16/1968   \n",
       "2    Female     7.161.136.94  6767119071901597        Russia   2/1/1960   \n",
       "3    Female    140.35.109.83  3576031598965625         China   4/8/1997   \n",
       "4             169.113.235.40  5602256255204850  South Africa              \n",
       "..      ...              ...               ...           ...        ...   \n",
       "995    Male  178.180.111.236   374288806662929        Greece   7/8/1965   \n",
       "996  Female     71.50.39.137                           China  4/22/1975   \n",
       "997            6.188.121.221  3553564071014997        Sweden   5/1/1979   \n",
       "998  Female    97.221.132.35    30424803513734         China  10/9/1991   \n",
       "999  Female    217.1.147.132   374288099198540         China              \n",
       "\n",
       "        salary                   title comments  \n",
       "0     49756.53        Internal Auditor    1E+02  \n",
       "1    150280.17           Accountant IV           \n",
       "2    144972.51     Structural Engineer           \n",
       "3     90263.05  Senior Cost Accountant           \n",
       "4          NaN                                   \n",
       "..         ...                     ...      ...  \n",
       "995  263399.54                  Editor           \n",
       "996   83183.54   VP Product Management           \n",
       "997        NaN        Junior Executive           \n",
       "998   18433.85                  Editor        ​  \n",
       "999  222561.13                                   \n",
       "\n",
       "[1000 rows x 13 columns]"
      ]
     },
     "execution_count": 10,
     "metadata": {},
     "output_type": "execute_result"
    }
   ],
   "source": [
    "df"
   ]
  },
  {
   "cell_type": "markdown",
   "metadata": {},
   "source": [
    "You can convert the DataFrame back to a Table (note we're using the method from `pa` which is pyarrow):"
   ]
  },
  {
   "cell_type": "code",
   "execution_count": 11,
   "metadata": {},
   "outputs": [
    {
     "data": {
      "text/plain": [
       "pyarrow.Table\n",
       "registration_dttm: timestamp[ns]\n",
       "id: int32\n",
       "first_name: string\n",
       "last_name: string\n",
       "email: string\n",
       "gender: string\n",
       "ip_address: string\n",
       "cc: string\n",
       "country: string\n",
       "birthdate: string\n",
       "salary: double\n",
       "title: string\n",
       "comments: string\n",
       "----\n",
       "registration_dttm: [[2016-02-03 07:55:29.000000000,2016-02-03 17:04:03.000000000,2016-02-03 01:09:31.000000000,2016-02-03 00:36:21.000000000,2016-02-03 05:05:31.000000000,...,2016-02-03 10:30:59.000000000,2016-02-03 17:16:53.000000000,2016-02-03 05:02:20.000000000,2016-02-03 02:41:32.000000000,2016-02-03 09:52:18.000000000]]\n",
       "id: [[1,2,3,4,5,...,996,997,998,999,1000]]\n",
       "first_name: [[\"Amanda\",\"Albert\",\"Evelyn\",\"Denise\",\"Carlos\",...,\"Dennis\",\"Gloria\",\"Nancy\",\"Annie\",\"Julie\"]]\n",
       "last_name: [[\"Jordan\",\"Freeman\",\"Morgan\",\"Riley\",\"Burns\",...,\"Harris\",\"Hamilton\",\"Morris\",\"Daniels\",\"Meyer\"]]\n",
       "email: [[\"ajordan0@com.com\",\"afreeman1@is.gd\",\"emorgan2@altervista.org\",\"driley3@gmpg.org\",\"cburns4@miitbeian.gov.cn\",...,\"dharrisrn@eepurl.com\",\"ghamiltonro@rambler.ru\",\"nmorrisrp@ask.com\",\"adanielsrq@squidoo.com\",\"jmeyerrr@flavors.me\"]]\n",
       "gender: [[\"Female\",\"Male\",\"Female\",\"Female\",\"\",...,\"Male\",\"Female\",\"\",\"Female\",\"Female\"]]\n",
       "ip_address: [[\"1.197.201.2\",\"218.111.175.34\",\"7.161.136.94\",\"140.35.109.83\",\"169.113.235.40\",...,\"178.180.111.236\",\"71.50.39.137\",\"6.188.121.221\",\"97.221.132.35\",\"217.1.147.132\"]]\n",
       "cc: [[\"6759521864920116\",\"\",\"6767119071901597\",\"3576031598965625\",\"5602256255204850\",...,\"374288806662929\",\"\",\"3553564071014997\",\"30424803513734\",\"374288099198540\"]]\n",
       "country: [[\"Indonesia\",\"Canada\",\"Russia\",\"China\",\"South Africa\",...,\"Greece\",\"China\",\"Sweden\",\"China\",\"China\"]]\n",
       "birthdate: [[\"3/8/1971\",\"1/16/1968\",\"2/1/1960\",\"4/8/1997\",\"\",...,\"7/8/1965\",\"4/22/1975\",\"5/1/1979\",\"10/9/1991\",\"\"]]\n",
       "..."
      ]
     },
     "execution_count": 11,
     "metadata": {},
     "output_type": "execute_result"
    }
   ],
   "source": [
    "new_table = pa.Table.from_pandas(df)\n",
    "\n",
    "new_table"
   ]
  },
  {
   "cell_type": "markdown",
   "metadata": {},
   "source": [
    "You can write the table back to a Parquet file:"
   ]
  },
  {
   "cell_type": "code",
   "execution_count": 12,
   "metadata": {},
   "outputs": [],
   "source": [
    "pq.write_table(new_table, \"../data/userdata2.parquet\")"
   ]
  },
  {
   "cell_type": "markdown",
   "metadata": {},
   "source": [
    "> 1. How many males and females are there?\n",
    ">\n",
    "> 2. What is the average salary for customers from China?\n",
    ">\n",
    "> 3. Create a new column `full_name` which combines `first_name` and `last_name` with a space in between in the dataframe. Then convert it back to a new Table and write it to a Parquet file."
   ]
  },
  {
   "cell_type": "code",
   "execution_count": null,
   "metadata": {},
   "outputs": [
    {
     "ename": "AttributeError",
     "evalue": "'pyarrow.lib.Table' object has no attribute 'groupby'",
     "output_type": "error",
     "traceback": [
      "\u001b[0;31m---------------------------------------------------------------------------\u001b[0m",
      "\u001b[0;31mAttributeError\u001b[0m                            Traceback (most recent call last)",
      "Cell \u001b[0;32mIn[18], line 2\u001b[0m\n\u001b[1;32m      1\u001b[0m \u001b[38;5;66;03m# how to calculate males and female\u001b[39;00m\n\u001b[0;32m----> 2\u001b[0m \u001b[43mnew_table\u001b[49m\u001b[38;5;241;43m.\u001b[39;49m\u001b[43mgroupby\u001b[49m(\u001b[38;5;124m'\u001b[39m\u001b[38;5;124mgender\u001b[39m\u001b[38;5;124m'\u001b[39m)\u001b[38;5;241m.\u001b[39msize()\n",
      "\u001b[0;31mAttributeError\u001b[0m: 'pyarrow.lib.Table' object has no attribute 'groupby'"
     ]
    }
   ],
   "source": [
    "df['gender'].value_counts()\n"
   ]
  },
  {
   "cell_type": "markdown",
   "metadata": {},
   "source": [
    "### Reading (Decoding) and Writing (Encoding) an ORC File\n",
    "\n",
    "Let's look at how to decode and encode an ORC file with mock customers data."
   ]
  },
  {
   "cell_type": "code",
   "execution_count": 1,
   "metadata": {},
   "outputs": [],
   "source": [
    "import pyarrow as pa\n",
    "from pyarrow import orc"
   ]
  },
  {
   "cell_type": "code",
   "execution_count": 2,
   "metadata": {},
   "outputs": [],
   "source": [
    "table2 = orc.read_table('../data/userdata1.orc')"
   ]
  },
  {
   "cell_type": "code",
   "execution_count": 3,
   "metadata": {},
   "outputs": [
    {
     "data": {
      "text/plain": [
       "pyarrow.Table\n",
       "_col0: timestamp[ns]\n",
       "_col1: int32\n",
       "_col2: string\n",
       "_col3: string\n",
       "_col4: string\n",
       "_col5: string\n",
       "_col6: string\n",
       "_col7: string\n",
       "_col8: string\n",
       "_col9: string\n",
       "_col10: double\n",
       "_col11: string\n",
       "_col12: string\n",
       "----\n",
       "_col0: [[2016-02-03 13:36:39.000000000,2016-02-03 00:22:28.000000000,2016-02-03 18:29:04.000000000,2016-02-03 13:42:19.000000000,2016-02-03 00:15:29.000000000,...,2016-02-03 13:36:49.000000000,2016-02-03 04:39:01.000000000,2016-02-03 00:33:54.000000000,2016-02-03 00:15:08.000000000,2016-02-03 00:53:53.000000000]]\n",
       "_col1: [[1,2,3,4,5,...,996,997,998,999,1000]]\n",
       "_col2: [[\"Donald\",\"Walter\",\"Michelle\",\"Lori\",\"Howard\",...,\"Carol\",\"Helen\",\"Stephanie\",\"Marie\",\"Alice\"]]\n",
       "_col3: [[\"Lewis\",\"Collins\",\"Henderson\",\"Hudson\",\"Miller\",...,\"Warren\",\"Fields\",\"Sims\",\"Medina\",\"Peterson\"]]\n",
       "_col4: [[\"dlewis0@clickbank.net\",\"wcollins1@bloglovin.com\",\"mhenderson2@geocities.jp\",\"lhudson3@dion.ne.jp\",\"hmiller4@fema.gov\",...,\"cwarrenrn@geocities.jp\",\"hfieldsro@comcast.net\",\"ssimsrp@newyorker.com\",\"mmedinarq@thetimes.co.uk\",\"apetersonrr@parallels.com\"]]\n",
       "_col5: [[\"Male\",\"Male\",\"Female\",\"\",\"Male\",...,\"Female\",\"Female\",\"Female\",\"Female\",\"Female\"]]\n",
       "_col6: [[\"102.22.124.20\",\"247.28.26.93\",\"193.68.146.150\",\"34.252.168.48\",\"103.193.150.230\",...,\"71.7.191.213\",\"164.190.97.183\",\"135.66.68.181\",\"223.83.175.211\",\"244.89.94.58\"]]\n",
       "_col7: [[\"\",\"3587726269478025\",\"\",\"3568840151595649\",\"3583473261055014\",...,\"\",\"\",\"3548125808139842\",\"\",\"5602227843485236\"]]\n",
       "_col8: [[\"Indonesia\",\"China\",\"France\",\"Russia\",\"France\",...,\"China\",\"Malaysia\",\"Poland\",\"Kazakhstan\",\"Nigeria\"]]\n",
       "_col9: [[\"7/9/1972\",\"\",\"1/15/1964\",\"4/22/1988\",\"11/26/1998\",...,\"\",\"\",\"\",\"3/25/1969\",\"\"]]\n",
       "..."
      ]
     },
     "execution_count": 3,
     "metadata": {},
     "output_type": "execute_result"
    }
   ],
   "source": [
    "table2"
   ]
  },
  {
   "cell_type": "markdown",
   "metadata": {},
   "source": [
    "The column names are missing in the ORC file, so we need to specify them manually, we can use the column names from the previous Table."
   ]
  },
  {
   "cell_type": "code",
   "execution_count": null,
   "metadata": {},
   "outputs": [],
   "source": [
    "table2 = table2.rename_columns(table.column_names)"
   ]
  },
  {
   "cell_type": "code",
   "execution_count": null,
   "metadata": {},
   "outputs": [],
   "source": [
    "table2"
   ]
  },
  {
   "cell_type": "code",
   "execution_count": null,
   "metadata": {},
   "outputs": [],
   "source": [
    "df2 = table2.to_pandas()\n",
    "\n",
    "df2"
   ]
  },
  {
   "cell_type": "markdown",
   "metadata": {},
   "source": [
    "You can write the table back to an ORC file:"
   ]
  },
  {
   "cell_type": "code",
   "execution_count": null,
   "metadata": {},
   "outputs": [],
   "source": [
    "orc.write_table(table2, \"../data/userdata2.orc\")"
   ]
  },
  {
   "cell_type": "markdown",
   "metadata": {},
   "source": [
    "> 1. How many males and females are there from China?\n",
    ">\n",
    "> 2. Create a new column `age` which is computed from the birthdate in the dataframe. Then convert it back to a new Table and write it to an ORC file."
   ]
  }
 ],
 "metadata": {
  "kernelspec": {
   "display_name": "bde",
   "language": "python",
   "name": "python3"
  },
  "language_info": {
   "codemirror_mode": {
    "name": "ipython",
    "version": 3
   },
   "file_extension": ".py",
   "mimetype": "text/x-python",
   "name": "python",
   "nbconvert_exporter": "python",
   "pygments_lexer": "ipython3",
   "version": "3.10.13"
  }
 },
 "nbformat": 4,
 "nbformat_minor": 4
}

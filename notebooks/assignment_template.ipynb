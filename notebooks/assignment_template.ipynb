{
 "cells": [
  {
   "cell_type": "markdown",
   "id": "156822bd",
   "metadata": {},
   "source": [
    "# Assignment\n",
    "## Brief\n",
    "Write the Python codes for the following questions.\n",
    "## Instructions\n",
    "Paste the answer as Python in the answer code section below each question."
   ]
  },
  {
   "cell_type": "markdown",
   "id": "9dc7ee58",
   "metadata": {},
   "source": [
    "### Question 1\n",
    "Question: Implement a simple Thrift server and client that defines a `Student` struct with fields `name` (string), `age` (integer), and `courses` (list of strings). Include a service `School` with a method `enrollCourse` that takes a `Student` record and a course name, adds the course to the student's course list, and returns the updated `Student` record."
   ]
  },
  {
   "cell_type": "code",
   "execution_count": null,
   "id": "cc30b0aa",
   "metadata": {},
   "outputs": [],
   "source": [
    "%%writefile ../schema/student.thrift\n",
    "# Thrift schema (student.thrift)\n",
    "\n"
   ]
  },
  {
   "cell_type": "code",
   "execution_count": null,
   "id": "b143e867",
   "metadata": {},
   "outputs": [],
   "source": [
    "%%writefile ../student_server.py\n",
    "\n",
    "# Thrift server (student_server.py)\n",
    "\n"
   ]
  },
  {
   "cell_type": "markdown",
   "id": "123b9053",
   "metadata": {},
   "source": [
    "Run `python student_server.py` to start the server."
   ]
  },
  {
   "cell_type": "code",
   "execution_count": null,
   "id": "67aff9c5",
   "metadata": {},
   "outputs": [],
   "source": [
    "# Thrift client (student_client.py)\n",
    "\n"
   ]
  },
  {
   "cell_type": "markdown",
   "id": "9d36ce57",
   "metadata": {},
   "source": [
    "### Question 2\n",
    "Question: Implement a simple Protocol Buffers server and client that defines a `Book` message with fields `title` (string), `author` (string), and `page_count` (integer). Include a service `Library` with a method `checkoutBook` that takes a `Book` message and returns the same `Book` message."
   ]
  },
  {
   "cell_type": "markdown",
   "id": "0bcea15b",
   "metadata": {},
   "source": [
    "Protobuf schema (book.proto)"
   ]
  },
  {
   "cell_type": "code",
   "execution_count": null,
   "id": "967c353c",
   "metadata": {},
   "outputs": [],
   "source": [
    "%%writefile ../schema/book.proto \n",
    "syntax = \"proto3\";\n",
    "\n"
   ]
  },
  {
   "cell_type": "markdown",
   "id": "d08efba0",
   "metadata": {},
   "source": [
    "run the following command in a terminal to generate the Python code:\n",
    "\n",
    "```bash\n",
    "python -m grpc_tools.protoc -I./schema --python_out=. --grpc_python_out=. ./schema/book.proto\n",
    "```\n",
    "\n",
    "This will generate the following files:\n",
    "\n",
    "```bash\n",
    "book_pb2.py\n",
    "book_pb2_grpc.py\n",
    "```"
   ]
  },
  {
   "cell_type": "code",
   "execution_count": null,
   "id": "d03de9fe",
   "metadata": {},
   "outputs": [],
   "source": [
    "%%writefile ../book_server.py\n",
    "# Protobuf server (book_server.py)\n",
    "\n",
    "\n"
   ]
  },
  {
   "cell_type": "markdown",
   "id": "33559992",
   "metadata": {},
   "source": [
    "Run `python book_server.py` to start the server."
   ]
  },
  {
   "cell_type": "code",
   "execution_count": null,
   "id": "31771c55",
   "metadata": {},
   "outputs": [],
   "source": [
    "# Protobuf client (book_client.py)\n"
   ]
  },
  {
   "cell_type": "markdown",
   "id": "74851b08",
   "metadata": {},
   "source": [
    "## Submission\n",
    "- Submit the URL of the GitHub Repository that contains your work to NTU black board.\n",
    "- Should you reference the work of your classmate(s) or online resources, give them credit by adding either the name of your classmate or URL."
   ]
  }
 ],
 "metadata": {
  "kernelspec": {
   "display_name": "bde",
   "language": "python",
   "name": "python3"
  },
  "language_info": {
   "codemirror_mode": {
    "name": "ipython",
    "version": 3
   },
   "file_extension": ".py",
   "mimetype": "text/x-python",
   "name": "python",
   "nbconvert_exporter": "python",
   "pygments_lexer": "ipython3",
   "version": "3.10.13"
  }
 },
 "nbformat": 4,
 "nbformat_minor": 5
}

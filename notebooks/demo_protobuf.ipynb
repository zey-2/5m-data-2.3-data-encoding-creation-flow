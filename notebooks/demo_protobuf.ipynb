{
 "cells": [
  {
   "cell_type": "markdown",
   "metadata": {},
   "source": [
    "# Data Encoding, Decoding and Flow"
   ]
  },
  {
   "cell_type": "markdown",
   "metadata": {},
   "source": [
    "## Protocol Buffers (Protobuf)\n",
    "\n",
    "Protobuf types include:\n",
    "\n",
    "- double: double precision floating point number\n",
    "- float: single precision floating point number\n",
    "- int32: signed integer, uses variable-length encoding\n",
    "- int64: signed integer, uses variable-length encoding\n",
    "- uint32: unsigned integer, uses variable-length encoding\n",
    "- uint64: unsigned integer, uses variable-length encoding\n",
    "- sint32: signed integer, uses variable-length encoding, more efficient than int32\n",
    "- sint64: signed integer, uses variable-length encoding, more efficient than int64\n",
    "- fixed32: unsigned integer, always 4 bytes\n",
    "- fixed64: unsigned integer, always 8 bytes\n",
    "- sfixed32: signed integer, always 4 bytes\n",
    "- sfixed64: signed integer, always 8 bytes\n",
    "- bool: boolean value\n",
    "- string: UTF-8 text string\n",
    "- bytes: sequence of bytes\n",
    "- enum: enumerated type\n",
    "- message: nested message type\n",
    "- map: map type\n",
    "- Any: dynamic type\n",
    "\n",
    "Protobuf schema definitions are defined in `.proto` files. The Protobuf compiler generates code in various languages from the `.proto` files.\n",
    "\n",
    "### Encoding\n",
    "\n",
    "We can encode the previous example record in Protobuf using the following schema in the `.proto` file:\n",
    "\n",
    "```protobuf\n",
    "message Person {\n",
    "  required string user_name = 1;\n",
    "  optional int64 favorite_number = 2;\n",
    "  repeated string interests = 3;\n",
    "}\n",
    "```\n",
    "\n",
    "The data encoded with this schema looks like this:\n",
    "![protobuf](../assets/protobuf.png)\n",
    "\n",
    "Protocol Buffers have an interesting aspect regarding its datatype handling. Unlike having a specific list or array datatype, it utilizes a `repeated` marker for fields, which serves as a third option alongside `required` and `optional`.\n",
    "\n",
    "As depicted in the figure, a repeated field is simply represented by the same field tag appearing multiple times in the record. The advantage of this approach is that converting an optional (single-valued) field into a repeated (multi-valued) field is permissible. When new code reads old data, it interprets it as a list with either zero or one element, depending on whether the field was present. On the other hand, old code reading new data only perceives the last element of the list.\n",
    "\n",
    "### gRPC\n",
    "\n",
    "Nows, let's look at how to use the generated code to make remote procedure calls. We will use gRPC, which is a high-performance RPC framework built on top of Protobuf. gRPC is a client-server application where the client initiates an RPC call and waits for a response from the server. The server executes the requested operation and returns a response to the client."
   ]
  },
  {
   "cell_type": "code",
   "execution_count": 1,
   "metadata": {},
   "outputs": [
    {
     "name": "stdout",
     "output_type": "stream",
     "text": [
      "Overwriting ../schema/person.proto\n"
     ]
    }
   ],
   "source": [
    "\n",
    "%%writefile ../schema/person.proto\n",
    "syntax = \"proto3\";\n",
    "\n",
    "message Person {\n",
    "  string user_name = 1;\n",
    "  optional int64 favorite_number = 2;\n",
    "  repeated string interests = 3;\n",
    "  optional uint32 grade = 4;\n",
    "}\n",
    "\n",
    "message CourseRequest {\n",
    "  Person person = 1;\n",
    "  string course = 2;\n",
    "}\n",
    "\n",
    "message GradeRequest {\n",
    "  Person person = 1;\n",
    "  uint32 grade = 2;\n",
    "}\n",
    "\n",
    "service School {\n",
    "  rpc teachCourse(CourseRequest) returns (Person) {}\n",
    "  rpc assignGrade(GradeRequest) returns (Person) {}\n",
    "}"
   ]
  },
  {
   "cell_type": "markdown",
   "metadata": {},
   "source": [
    "Then, run the following command in a terminal to generate the Python code:\n",
    "\n",
    "```bash\n",
    "python -m grpc_tools.protoc -I./schema --python_out=. --grpc_python_out=. ./schema/person.proto\n",
    "```\n",
    "\n",
    "This will generate the following files:\n",
    "\n",
    "```bash\n",
    "person_pb2.py\n",
    "person_pb2_grpc.py\n",
    "```"
   ]
  },
  {
   "cell_type": "code",
   "execution_count": 2,
   "metadata": {},
   "outputs": [
    {
     "name": "stdout",
     "output_type": "stream",
     "text": [
      "Overwriting ../person_protobuf_server.py\n"
     ]
    }
   ],
   "source": [
    "%%writefile ../person_protobuf_server.py\n",
    "from concurrent import futures\n",
    "import grpc\n",
    "import person_pb2_grpc\n",
    "\n",
    "\n",
    "class School(person_pb2_grpc.SchoolServicer):\n",
    "\n",
    "  def teachCourse(self, request, context):\n",
    "    request.person.interests.append(request.course)\n",
    "    return request.person\n",
    "\n",
    "  def assignGrade(self, request, context):\n",
    "    request.person.grade = request.grade\n",
    "    return request.person\n",
    "\n",
    "server = grpc.server(futures.ThreadPoolExecutor(max_workers=2))\n",
    "person_pb2_grpc.add_SchoolServicer_to_server(\n",
    "    School(), server)\n",
    "server.add_insecure_port('[::]:50051')\n",
    "server.start()\n",
    "server.wait_for_termination()"
   ]
  },
  {
   "cell_type": "markdown",
   "metadata": {},
   "source": [
    "Then, run `python person_protobuf_server.py` in a new terminal. This will start the server."
   ]
  },
  {
   "cell_type": "code",
   "execution_count": 3,
   "metadata": {},
   "outputs": [],
   "source": [
    "import sys\n",
    "sys.path.append('..')\n",
    "import grpc\n",
    "import person_pb2\n",
    "import person_pb2_grpc\n"
   ]
  },
  {
   "cell_type": "code",
   "execution_count": 4,
   "metadata": {},
   "outputs": [
    {
     "name": "stdout",
     "output_type": "stream",
     "text": [
      "['daydreaming', 'hacking', 'coding']\n"
     ]
    }
   ],
   "source": [
    "def teach_course(stub, person, course):\n",
    "    person = stub.teachCourse(person_pb2.CourseRequest(person=person, course=course))\n",
    "    return person\n",
    "\n",
    "\n",
    "with grpc.insecure_channel('localhost:50051') as channel:\n",
    "    martin = person_pb2.Person(user_name='Martin', favorite_number=1337, interests=[\"daydreaming\", \"hacking\"])\n",
    "    course = \"coding\"\n",
    "    stub = person_pb2_grpc.SchoolStub(channel)\n",
    "    martin = teach_course(stub, martin, course)\n",
    "    print(martin.interests)"
   ]
  },
  {
   "cell_type": "markdown",
   "metadata": {},
   "source": [
    "> Add a new field `grade` (0-100) with an appropriate type annotation to the `Person` message. Then, add a new method `assignGrade` to the `School` service that takes a `GradeRequest` message (which consists of a `Person` record and a `grade` arguments), assigns the `grade` to the `Person` and returns the `Person`. Then call the method by passing \"Martin\" `person` and a grade number, and print his grade."
   ]
  },
  {
   "cell_type": "code",
   "execution_count": 5,
   "metadata": {},
   "outputs": [
    {
     "name": "stdout",
     "output_type": "stream",
     "text": [
      "Martin has been assigned a grade of 90.\n"
     ]
    }
   ],
   "source": [
    "with grpc.insecure_channel('localhost:50051') as channel:\n",
    "    stub = person_pb2_grpc.SchoolStub(channel)\n",
    "    grade_request = person_pb2.GradeRequest(person=martin, grade=90)\n",
    "    martin = stub.assignGrade(grade_request)\n",
    "    print(f\"{martin.user_name} has been assigned a grade of {martin.grade}.\")"
   ]
  },
  {
   "cell_type": "code",
   "execution_count": null,
   "metadata": {},
   "outputs": [],
   "source": []
  }
 ],
 "metadata": {
  "kernelspec": {
   "display_name": "bde",
   "language": "python",
   "name": "python3"
  },
  "language_info": {
   "codemirror_mode": {
    "name": "ipython",
    "version": 3
   },
   "file_extension": ".py",
   "mimetype": "text/x-python",
   "name": "python",
   "nbconvert_exporter": "python",
   "pygments_lexer": "ipython3",
   "version": "3.10.13"
  }
 },
 "nbformat": 4,
 "nbformat_minor": 4
}
